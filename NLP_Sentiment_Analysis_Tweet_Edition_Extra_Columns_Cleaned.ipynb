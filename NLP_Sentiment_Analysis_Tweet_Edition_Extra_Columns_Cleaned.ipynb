{
  "nbformat": 4,
  "nbformat_minor": 0,
  "metadata": {
    "kernelspec": {
      "display_name": "Python 3",
      "language": "python",
      "name": "python3"
    },
    "language_info": {
      "codemirror_mode": {
        "name": "ipython",
        "version": 3
      },
      "file_extension": ".py",
      "mimetype": "text/x-python",
      "name": "python",
      "nbconvert_exporter": "python",
      "pygments_lexer": "ipython3",
      "version": "3.7.4"
    },
    "colab": {
      "name": "NLP Sentiment Analysis Tweet Edition Extra Columns Cleaned.ipynb",
      "provenance": []
    }
  },
  "cells": [
    {
      "cell_type": "markdown",
      "metadata": {
        "id": "4ycTS4SMVJ5X"
      },
      "source": [
        "<center> <h1>NLP Sentiment Analysis Disaster or Not?</h1> </center>"
      ]
    },
    {
      "cell_type": "markdown",
      "metadata": {
        "id": "UbSO1PLqVJ5d"
      },
      "source": [
        "<center> <h2> DS 3000 - Spring 2020</h2> </center>\n",
        "<center> <h3> DS Report </h3> </center>"
      ]
    },
    {
      "cell_type": "markdown",
      "metadata": {
        "id": "YyOcgZNHVJ5e"
      },
      "source": [
        "<hr style=\"height:2px; border:none; color:black; background-color:black;\">"
      ]
    },
    {
      "cell_type": "markdown",
      "metadata": {
        "id": "Jlmg9n73VJ5e"
      },
      "source": [
        "#### Executive Summary:\n"
      ]
    },
    {
      "cell_type": "markdown",
      "metadata": {
        "id": "vFa86cNPVJ5e"
      },
      "source": [
        "For our project, we worked with a labeled dataset containing tweets and whether or not those tweets referred to a \"real disaster\" or \"fake disaster\".  For some tweets, the dataset also indicated where those tweets were sent, as well as a keyword that might indicate a disaster. We used this labeled data alongside supervised machine learning algorithms to construct models that can predict the disaster status of a given tweet.  We chose this topic due to our interest in the practical applications of natural language processing.\n",
        "\n",
        "\n",
        "**Method**: \n",
        "We used feature extraction to get the desired features from this text data---using different vectorization methods via TfidVectorizer.  Our final dataset contained these text features alongside the location and keyword features from the original dataset.  Using this, we constructed several models and tested our hypotheses pertaining to model selection with our trained models.  Our trained models were used to predict the disaster-status of tweets.\n",
        "\n",
        "**Results**: \n",
        "Hypothesis testing indicated that the accuracy of the decision tree classifier was significantly worse than the accuracy of the Naive Bayes Classifier and the Logistic Regression Classifier. The Naive Bayes Classifier and Logistic Regression Classifier did not significantly differ from each other in terms of accuracy.\n",
        "\n",
        "\n",
        "**Discussion**: \n",
        "A bidirectional LSTM might be an ideal candidate for future analysis. Bidirectional LSTMs typically excel at problems like this one: for this solution to be effective however, more labeled data is required."
      ]
    },
    {
      "cell_type": "markdown",
      "metadata": {
        "id": "1k-l1EWfVJ5f"
      },
      "source": [
        "<hr style=\"height:2px; border:none; color:black; background-color:black;\">"
      ]
    },
    {
      "cell_type": "markdown",
      "metadata": {
        "id": "GEjo41HoVJ5f"
      },
      "source": [
        "## Outline\n",
        "1. <a href='#1'>INTRODUCTION</a>\n",
        "2. <a href='#2'>METHOD</a>\n",
        "3. <a href='#3'>RESULTS</a>\n",
        "4. <a href='#4'>DISCUSSION</a>"
      ]
    },
    {
      "cell_type": "markdown",
      "metadata": {
        "id": "vFXR4NjwVJ5f"
      },
      "source": [
        "<a id=\"1\"></a>\n",
        "<hr style=\"height:2px; border:none; color:black; background-color:black;\">"
      ]
    },
    {
      "cell_type": "markdown",
      "metadata": {
        "id": "J8asCVcOVJ5g"
      },
      "source": [
        "## 1. INTRODUCTION"
      ]
    },
    {
      "cell_type": "markdown",
      "metadata": {
        "id": "NQTLF9JFVJ5g"
      },
      "source": [
        "<h3>Problem Statement</h3>\n",
        "\n",
        "Twitter can be a valuable tool for broadcasting important information. The data it generates and propagates, if its intended meaning is received and interpreted properly, can save lives in times of disaster. If this is to be done, this massive amount of data must be finely filtered. \n",
        "\n",
        "In our project we address this as a sentiment analysis natural language processing problem: The goal of this project is to use supervised machine learning techniques to predict the disaster-status—whether a tweet represents a reference to a genuine disaster or not—of a given tweet based on a training subset of a collection of twitter data."
      ]
    },
    {
      "cell_type": "markdown",
      "metadata": {
        "id": "Ww4fErfGVJ5g"
      },
      "source": [
        "<h3>Significance of the Problem</h3>\n",
        "\n",
        "This kind of work is important because it advances our ability to respond appropriately to signals in the overwhelming amount of information that we have available to us.  Improving strategies by which to parse such data can have unforeseen benefits: the goal of this project alone suggests that work in natural language processing can be a humanitarian enterprise.  \n",
        "\n",
        "This subject of filtering out tweets for important information about emergencies has some precedent.  In 2017, Acerbo and Rossi presented a machine learning approach to distinguish between “informative” and “not informative” messages (binary classification) during emergency events.  Their approach was tested on real data.  An interesting finding was the most common words contained in informative vs non-informative tweets during different kinds of emergencies: informative tweets during fire emergencies contained words like “home”, “burn”, “help”, “now”, “firefighter”, and “new”, and non-informative tweets contained words like “pray”, “thought”, “prayer”, “please”, “safe”, and “hope” (1).\n",
        "\n",
        "1. https://www.researchgate.net/publication/321639599_Filtering_informative_tweets_during_emergencies_a_machine_learning_approach"
      ]
    },
    {
      "cell_type": "markdown",
      "metadata": {
        "id": "pw5B3BMgVJ5h"
      },
      "source": [
        "<h3>Questions/Hypotheses</h3>\n",
        "\n",
        "In this project we seek to create the best possible model for labeling the disaster-status of tweets.  The questions we ask reflect this goal:\n",
        "\n",
        "* How effective is Multinomial Naive Bayes compared to other classification algorithms?  We expect it to be more effective than the alternatives, as it is a popular algorithm for text classification, including sentiment analysis.\n",
        "* What parameters for TfidVectorizer are best for vocabulary construction?  Which set of parameters best reduces the risk of overfitting to the training data while maintaining good performance?  Does the use of n-grams increase accuracy/precision significantly when formulating a test model with data that is so prone to contain sarcasm?\n",
        "\n",
        "We hypothesize that Multinomial Naive Bayes will be the most effective classification algorithm.  We also hypothesize that the use of n-grams will give a noticeable increase to accuracy/precision because our NLP model is so prone to miscontextualization."
      ]
    },
    {
      "cell_type": "markdown",
      "metadata": {
        "id": "YM0AovOsVJ5h"
      },
      "source": [
        "<a id=\"2\"></a>\n",
        "<hr style=\"height:2px; border:none; color:black; background-color:black;\">"
      ]
    },
    {
      "cell_type": "markdown",
      "metadata": {
        "id": "KQ3sqopjVJ5h"
      },
      "source": [
        "## 2. METHOD"
      ]
    },
    {
      "cell_type": "markdown",
      "metadata": {
        "id": "Is5MIJAWVJ5i"
      },
      "source": [
        "### 2.1. Data Acquisition\n",
        "\n",
        "Kaggle is an online community of data scientists with over one million users that regularly hosts data science and machine learning competitions.  This project is based on their “Real or Not? NLP with Disaster Tweets” competition (1).  The train.csv file is the labeled training data set that was provided by Kaggle which allows us to perform supervised machine learning algorithms.  Every sample may or may not have information about the location it was sent from and a keyword from the tweet, but all samples are provided with the actual text from the tweet.  We do feature extraction on this text data with the bag-of-words representation, implemented by sklearn’s TfidVectorizer, and by hot encoding the location and keyword data.\n",
        "The target variable in train.csv is the binary representation of a disaster: where 1 is a real disaster and 0 is a fake disaster. With this information, we can test the accuracy of our classification models and make further data-driven predictions.\n",
        "\n",
        "1. Real or Not? NLP with Disaster Tweets. (n.d.). Retrieved from https://www.kaggle.com/c/nlp-getting-started/data"
      ]
    },
    {
      "cell_type": "markdown",
      "metadata": {
        "id": "Zd3gT1OQVJ5i"
      },
      "source": [
        "### 2.2. Variables\n"
      ]
    },
    {
      "cell_type": "markdown",
      "metadata": {
        "id": "aqeHLXC_VJ5i"
      },
      "source": [
        "<h4><u> IVs and DVs for Hypotheses</u></h4>\n",
        "\n",
        "(1) One general hypothesis is that Multinomial Naive Bayes will be the most effective classification algorithm for predicting disaster status. \n",
        "* IVs: classification model type\n",
        "* DVs: classification accuracy on testing set\n",
        "\n",
        "(2) Another general hypothesis we have is that the usage of multi-word tokens (n-grams) when constructing our vocabulary will give an increase in accuracy. \n",
        "* IVs: n-grams vs. no n-grams\n",
        "* DVs: classification accuracy on testing set\n",
        "\n",
        "<h4> <u>Features and Target Variables for Predictive Models</u> </h4>\n",
        "\n",
        "We tested our hypotheses through our machine learning models, where our features are the words from the vocabulary as well as the hot encoded locations and keywords, and the target is a binary representation of a disaster."
      ]
    },
    {
      "cell_type": "markdown",
      "metadata": {
        "id": "p75gG_0gVJ5j"
      },
      "source": [
        "### 2.3. Data Analysis\n"
      ]
    },
    {
      "cell_type": "markdown",
      "metadata": {
        "id": "PoGdZBkQVJ5j"
      },
      "source": [
        "The target variable is whether or not the tweet should be considered to refer to a disaster. A Disaster tweet is classified with a 1 and a non - disaster tweet is classified with a 0. \n",
        "\n",
        "The features are representations of the three independent variables (keyword, location, and text). The Keyword and Location columns are both hot encoded and are each several thousand columns. The text column is vectorized using a TF Vectorizer. \n",
        "\n",
        "The three predictive models used are Multinomial Naive Bayes, Logistic Regression, and a Decision Tree Classifier\n",
        "\n",
        "Multinomial Naive Bayes is a supervised learning > classification algorithm. It is often used for grouping documents and is promising in this context. \n",
        "\n",
        "Logistic Regression is a supervised learning > regression algorithm. However, it can be used for classification if a threshold is selected, with predictions above that threshold being positive cases. For our purposes we’ll choose .5 as our threshold. \n",
        "\n",
        "A Decision Tree is a Classification Algorithm. It builds a tree and asks yes or no questions that send the input left or right. Ultimately it reaches a leaf where a group is selected. The presence of certain words like “Destruction” might provide significant certainty about whether or not the tweet is a disaster, and consequently this is likely to be an effective model. \n",
        "\n",
        "Given that it is commonly used for Text Document classification tasks, we hypothesize Naive Bayes will perform the best. \n"
      ]
    },
    {
      "cell_type": "markdown",
      "metadata": {
        "id": "m81bfmFCVJ5k"
      },
      "source": [
        "<a id=\"3\"></a>\n",
        "<hr style=\"height:2px; border:none; color:black; background-color:black;\">"
      ]
    },
    {
      "cell_type": "markdown",
      "metadata": {
        "id": "3OamX3-4VJ5k"
      },
      "source": [
        "## 3. RESULTS\n",
        "1. <a href='#5'>Data Wrangling</a>\n",
        "2. <a href='#6'>Model Construction</a>\n",
        "3. <a href='#7'>Model Evaluation</a>\n",
        "4. <a href='#8'>Model Optimization</a>\n",
        "5. <a href='#9'>Data Exploration</a>"
      ]
    },
    {
      "cell_type": "markdown",
      "metadata": {
        "id": "dwGBmcXsVJ5k"
      },
      "source": [
        "<a id=\"5\"></a>\n",
        "### 3.1. Data Wrangling\n"
      ]
    },
    {
      "cell_type": "code",
      "metadata": {
        "id": "wua1UKZ8VJ5l"
      },
      "source": [
        "import numpy as np\n",
        "import pandas as pd\n",
        "\n",
        "# Read the csv file\n",
        "data = pd.read_csv(\"train.csv\")\n",
        "%matplotlib inline"
      ],
      "execution_count": null,
      "outputs": []
    },
    {
      "cell_type": "code",
      "metadata": {
        "id": "a0TzYZZCVJ5m",
        "outputId": "88d80e10-cc98-4955-8a16-33a975b35011"
      },
      "source": [
        "data.head()"
      ],
      "execution_count": null,
      "outputs": [
        {
          "output_type": "execute_result",
          "data": {
            "text/html": [
              "<div>\n",
              "<style scoped>\n",
              "    .dataframe tbody tr th:only-of-type {\n",
              "        vertical-align: middle;\n",
              "    }\n",
              "\n",
              "    .dataframe tbody tr th {\n",
              "        vertical-align: top;\n",
              "    }\n",
              "\n",
              "    .dataframe thead th {\n",
              "        text-align: right;\n",
              "    }\n",
              "</style>\n",
              "<table border=\"1\" class=\"dataframe\">\n",
              "  <thead>\n",
              "    <tr style=\"text-align: right;\">\n",
              "      <th></th>\n",
              "      <th>id</th>\n",
              "      <th>keyword</th>\n",
              "      <th>location</th>\n",
              "      <th>text</th>\n",
              "      <th>target</th>\n",
              "    </tr>\n",
              "  </thead>\n",
              "  <tbody>\n",
              "    <tr>\n",
              "      <td>0</td>\n",
              "      <td>1</td>\n",
              "      <td>NaN</td>\n",
              "      <td>NaN</td>\n",
              "      <td>Our Deeds are the Reason of this #earthquake M...</td>\n",
              "      <td>1</td>\n",
              "    </tr>\n",
              "    <tr>\n",
              "      <td>1</td>\n",
              "      <td>4</td>\n",
              "      <td>NaN</td>\n",
              "      <td>NaN</td>\n",
              "      <td>Forest fire near La Ronge Sask. Canada</td>\n",
              "      <td>1</td>\n",
              "    </tr>\n",
              "    <tr>\n",
              "      <td>2</td>\n",
              "      <td>5</td>\n",
              "      <td>NaN</td>\n",
              "      <td>NaN</td>\n",
              "      <td>All residents asked to 'shelter in place' are ...</td>\n",
              "      <td>1</td>\n",
              "    </tr>\n",
              "    <tr>\n",
              "      <td>3</td>\n",
              "      <td>6</td>\n",
              "      <td>NaN</td>\n",
              "      <td>NaN</td>\n",
              "      <td>13,000 people receive #wildfires evacuation or...</td>\n",
              "      <td>1</td>\n",
              "    </tr>\n",
              "    <tr>\n",
              "      <td>4</td>\n",
              "      <td>7</td>\n",
              "      <td>NaN</td>\n",
              "      <td>NaN</td>\n",
              "      <td>Just got sent this photo from Ruby #Alaska as ...</td>\n",
              "      <td>1</td>\n",
              "    </tr>\n",
              "  </tbody>\n",
              "</table>\n",
              "</div>"
            ],
            "text/plain": [
              "   id keyword location                                               text  \\\n",
              "0   1     NaN      NaN  Our Deeds are the Reason of this #earthquake M...   \n",
              "1   4     NaN      NaN             Forest fire near La Ronge Sask. Canada   \n",
              "2   5     NaN      NaN  All residents asked to 'shelter in place' are ...   \n",
              "3   6     NaN      NaN  13,000 people receive #wildfires evacuation or...   \n",
              "4   7     NaN      NaN  Just got sent this photo from Ruby #Alaska as ...   \n",
              "\n",
              "   target  \n",
              "0       1  \n",
              "1       1  \n",
              "2       1  \n",
              "3       1  \n",
              "4       1  "
            ]
          },
          "metadata": {
            "tags": []
          },
          "execution_count": 4
        }
      ]
    },
    {
      "cell_type": "code",
      "metadata": {
        "id": "tV9KHptpVJ5n",
        "outputId": "346039a2-dbeb-4f3a-d583-426006128dfc"
      },
      "source": [
        "# Extract the target value\n",
        "target = data.iloc[:, -1]\n",
        "target"
      ],
      "execution_count": null,
      "outputs": [
        {
          "output_type": "execute_result",
          "data": {
            "text/plain": [
              "0       1\n",
              "1       1\n",
              "2       1\n",
              "3       1\n",
              "4       1\n",
              "       ..\n",
              "7608    1\n",
              "7609    1\n",
              "7610    1\n",
              "7611    1\n",
              "7612    1\n",
              "Name: target, Length: 7613, dtype: int64"
            ]
          },
          "metadata": {
            "tags": []
          },
          "execution_count": 5
        }
      ]
    },
    {
      "cell_type": "code",
      "metadata": {
        "id": "1JTEObxLVJ5n",
        "outputId": "f60f2620-c537-447f-f677-0b52f5747c34"
      },
      "source": [
        "target.value_counts() # The Distribution has a slight skew toward negative cases"
      ],
      "execution_count": null,
      "outputs": [
        {
          "output_type": "execute_result",
          "data": {
            "text/plain": [
              "0    4342\n",
              "1    3271\n",
              "Name: target, dtype: int64"
            ]
          },
          "metadata": {
            "tags": []
          },
          "execution_count": 6
        }
      ]
    },
    {
      "cell_type": "code",
      "metadata": {
        "id": "-XNo2tAEVJ5o"
      },
      "source": [
        " # Extracts the features except for the text column\n",
        "features = data.iloc[:, 1:-2]"
      ],
      "execution_count": null,
      "outputs": []
    },
    {
      "cell_type": "code",
      "metadata": {
        "id": "5z7ae6LDVJ5o"
      },
      "source": [
        "# Preprocessing Pipeline for Imputing NA value and hot encoding categorical data\n",
        "from sklearn.compose import ColumnTransformer\n",
        "from sklearn.pipeline import Pipeline\n",
        "from sklearn.impute import SimpleImputer\n",
        "from sklearn.preprocessing import OneHotEncoder"
      ],
      "execution_count": null,
      "outputs": []
    },
    {
      "cell_type": "code",
      "metadata": {
        "id": "XCebTW3KVJ5o"
      },
      "source": [
        "# Fill the categorical features with missing, and hot encode\n",
        "categorical_features = ['keyword', 'location']\n",
        "categorical_transformer = Pipeline(steps=[\n",
        "    ('imputer', SimpleImputer(strategy='constant', fill_value='missing')),\n",
        "    ('onehot', OneHotEncoder(drop='first'))])\n",
        "\n",
        "preprocessor = ColumnTransformer(\n",
        "    transformers=[\n",
        "        ('cat', categorical_transformer, categorical_features),\n",
        "        ], remainder = 'passthrough')\n",
        "\n",
        "X = preprocessor.fit_transform(features)"
      ],
      "execution_count": null,
      "outputs": []
    },
    {
      "cell_type": "code",
      "metadata": {
        "id": "T9_GCGa1VJ5o"
      },
      "source": [
        "### Remove any punctuation from the strings\n",
        "import string\n",
        "text = data.iloc[:, -2]\n",
        "text = text.apply(lambda s : s.translate(str.maketrans('', '', string.punctuation)))"
      ],
      "execution_count": null,
      "outputs": []
    },
    {
      "cell_type": "code",
      "metadata": {
        "id": "qiYNISswVJ5p"
      },
      "source": [
        "text_exp = np.expand_dims(text, axis=0)\n",
        "text_exp = text_exp.T"
      ],
      "execution_count": null,
      "outputs": []
    },
    {
      "cell_type": "code",
      "metadata": {
        "id": "35v4s95uVJ5p"
      },
      "source": [
        "X = X.toarray()"
      ],
      "execution_count": null,
      "outputs": []
    },
    {
      "cell_type": "code",
      "metadata": {
        "id": "W5BhmQDgVJ5p",
        "outputId": "1ba798f1-9b9b-495e-e454-38f88b8ba9c2"
      },
      "source": [
        "# Create our final X data that we'll be splitting by reappending the text column\n",
        "X_final = np.append(X, text_exp, axis=1)\n",
        "X_final.shape"
      ],
      "execution_count": null,
      "outputs": [
        {
          "output_type": "execute_result",
          "data": {
            "text/plain": [
              "(7613, 3563)"
            ]
          },
          "metadata": {
            "tags": []
          },
          "execution_count": 13
        }
      ]
    },
    {
      "cell_type": "markdown",
      "metadata": {
        "id": "YlNF2WNHVJ5p"
      },
      "source": [
        "<a id=\"6\"></a>\n",
        "### 3.2. Model Construction"
      ]
    },
    {
      "cell_type": "code",
      "metadata": {
        "id": "w8Rq5YPVVJ5q"
      },
      "source": [
        "from sklearn.naive_bayes import MultinomialNB\n",
        "from sklearn.model_selection import train_test_split\n",
        "from sklearn.feature_extraction.text import TfidfVectorizer"
      ],
      "execution_count": null,
      "outputs": []
    },
    {
      "cell_type": "code",
      "metadata": {
        "id": "6fSMeBS3VJ5r"
      },
      "source": [
        "# Split the data into train and test sets\n",
        "X_train, X_test, y_train, y_test = train_test_split(X_final, target, random_state=3000)"
      ],
      "execution_count": null,
      "outputs": []
    },
    {
      "cell_type": "code",
      "metadata": {
        "id": "tTteX3CDVJ5t"
      },
      "source": [
        "from sklearn.metrics import recall_score\n",
        "from sklearn.metrics import precision_score\n",
        "\n",
        "# Train the given model with the given data set\n",
        "# Display the metrics (accuracy, precision, recall, and f1_score)\n",
        "# Return the fitted model and f1_score\n",
        "def train_model(model, data):\n",
        "    fitted = model.fit(X=data[0], y=data[1])\n",
        "    recall = recall_score(fitted.predict(data[0]), data[1])\n",
        "    precision = precision_score(fitted.predict(data[0]), data[1])\n",
        "    f1 = 2 * ((precision * recall) / (precision + recall))\n",
        "    class_acc_train = fitted.score(data[0], data[1])\n",
        "    print(\"Classification accuracy on training set: \", class_acc_train)\n",
        "    print(\"Precision on training set: \", precision)\n",
        "    print(\"Recall score on training set: \", recall)\n",
        "    print(\"f1 score on training set: \\n\", f1)\n",
        "    \n",
        "    recall = recall_score(fitted.predict(data[2]), data[3])\n",
        "    precision = precision_score(fitted.predict(data[2]), data[3])\n",
        "    f1 = 2 * ((precision * recall) / (precision + recall))\n",
        "    class_acc = fitted.score(data[2], data[3])\n",
        "    print(\"Classification accuracy on test set: \", class_acc)\n",
        "    print(\"Precision on test set: \", precision)\n",
        "    print(\"Recall score on test set: \", recall)\n",
        "    print(\"f1 score on test set: \", f1)\n",
        "    \n",
        "    return fitted, f1, recall, precision, class_acc"
      ],
      "execution_count": null,
      "outputs": []
    },
    {
      "cell_type": "code",
      "metadata": {
        "id": "kJEogjK1VJ5u"
      },
      "source": [
        "# Fit the given vectorizer to the text-based X_train set\n",
        "# Training the MultinomialNB classifier with the new training/testing set\n",
        "def train_and_test(vectorizer):\n",
        "    # Get the text column from each features set\n",
        "    X_train_text = X_train[:, -1]\n",
        "    X_test_text = X_test[:, -1]\n",
        "    # Get the other columns from each features set\n",
        "    X_train_exc_text = X_train[:, :-1]\n",
        "    X_test_exc_text = X_test[:, :-1]\n",
        "    # fit the vectorizer to the training text data\n",
        "    vectorizer.fit(X_train_text)\n",
        "    # Transform the text data from each set\n",
        "    X_train_text_vectorized = vectorizer.transform(X_train_text)\n",
        "    X_test_text_vectorized = vectorizer.transform(X_test_text)\n",
        "    # Build the final train and test set\n",
        "    X_final_nb_train = np.append(X_train_text_vectorized.toarray(), X_train_exc_text, axis=1)\n",
        "    X_final_nb_test = np.append(X_test_text_vectorized.toarray(), X_test_exc_text, axis=1)\n",
        "    #train the classifier\n",
        "    data = [X_final_nb_train, y_train, X_final_nb_test, y_test]\n",
        "    \n",
        "    print(\"Number of features used: \", len(vectorizer.get_feature_names()))\n",
        "    model, f1, recall, precision, class_acc = train_model(MultinomialNB(alpha = 0.5), data)\n",
        "    \n",
        "    return model, vectorizer, data, f1, recall, precision, class_acc"
      ],
      "execution_count": null,
      "outputs": []
    },
    {
      "cell_type": "code",
      "metadata": {
        "id": "KZUAUP4fVJ5u",
        "outputId": "73116142-3139-4a4f-847e-8aad05cd0137"
      },
      "source": [
        "# Default Settings\n",
        "standard, fitted_standard_vect, data1, f1_st, recall_st, precision_st, class_acc_st = train_and_test(TfidfVectorizer())"
      ],
      "execution_count": null,
      "outputs": [
        {
          "output_type": "stream",
          "text": [
            "Number of features used:  18216\n",
            "Classification accuracy on training set:  0.9218777369066387\n",
            "Precision on training set:  0.8649425287356322\n",
            "Recall score on training set:  0.9473920863309353\n",
            "f1 score on training set: \n",
            " 0.9042918454935623\n",
            "Classification accuracy on test set:  0.803046218487395\n",
            "Precision on test set:  0.6982035928143713\n",
            "Recall score on test set:  0.8257790368271954\n",
            "f1 score on test set:  0.7566515249837769\n"
          ],
          "name": "stdout"
        }
      ]
    },
    {
      "cell_type": "code",
      "metadata": {
        "id": "2biD-2RbVJ5v",
        "outputId": "9e6cc924-2673-4026-8c16-6d3ea98e8371"
      },
      "source": [
        "# Remove english stop words\n",
        "stop_words, fitted_stop_vect, data2, f1_stop, recall_stop, precision_stop, class_acc_stop = train_and_test(TfidfVectorizer(stop_words = \"english\"))"
      ],
      "execution_count": null,
      "outputs": [
        {
          "output_type": "stream",
          "text": [
            "Number of features used:  17943\n",
            "Classification accuracy on training set:  0.929409703976178\n",
            "Precision on training set:  0.8858784893267652\n",
            "Recall score on training set:  0.9452474813841437\n",
            "f1 score on training set: \n",
            " 0.9146005509641874\n",
            "Classification accuracy on test set:  0.789390756302521\n",
            "Precision on test set:  0.7005988023952096\n",
            "Recall score on test set:  0.7948369565217391\n",
            "f1 score on test set:  0.7447485677912159\n"
          ],
          "name": "stdout"
        }
      ]
    },
    {
      "cell_type": "code",
      "metadata": {
        "id": "lIDnC6NfVJ5v",
        "outputId": "b1695fcc-ef7b-4861-f816-e5bc7751634d"
      },
      "source": [
        "# Remove english stop words and set a min frequency of a word appearing in at least 5 tweets\n",
        "min_df_and_stop, fitted_df_stop_vect, data3, f1_df, recall_df, precision_df, class_acc_df = train_and_test(TfidfVectorizer(stop_words = \"english\", min_df=5))"
      ],
      "execution_count": null,
      "outputs": [
        {
          "output_type": "stream",
          "text": [
            "Number of features used:  1958\n",
            "Classification accuracy on training set:  0.8798388509371168\n",
            "Precision on training set:  0.8296387520525451\n",
            "Recall score on training set:  0.881762652705061\n",
            "f1 score on training set: \n",
            " 0.8549069373942471\n",
            "Classification accuracy on test set:  0.7851890756302521\n",
            "Precision on test set:  0.7161676646706587\n",
            "Recall score on test set:  0.7766233766233767\n",
            "f1 score on test set:  0.745171339563863\n"
          ],
          "name": "stdout"
        }
      ]
    },
    {
      "cell_type": "code",
      "metadata": {
        "id": "e6hNCbsBVJ5v",
        "outputId": "8bb88166-6c9a-4a6b-9f68-cf9df0ead8a3"
      },
      "source": [
        "# Use 4-grams and set a min frequency of a word appearing in at least 5 tweets\n",
        "ngram, fitted_ngram_vect, data4, f1_ngram, recall_ngram, precision_ngram, class_acc_ngram = train_and_test(TfidfVectorizer(ngram_range=(1, 3), min_df=5))"
      ],
      "execution_count": null,
      "outputs": [
        {
          "output_type": "stream",
          "text": [
            "Number of features used:  4443\n",
            "Classification accuracy on training set:  0.8807146610614819\n",
            "Precision on training set:  0.7955665024630542\n",
            "Recall score on training set:  0.9137199434229137\n",
            "f1 score on training set: \n",
            " 0.8505595786701778\n",
            "Classification accuracy on test set:  0.7951680672268907\n",
            "Precision on test set:  0.6934131736526946\n",
            "Recall score on test set:  0.8120617110799438\n",
            "f1 score on test set:  0.748062015503876\n"
          ],
          "name": "stdout"
        }
      ]
    },
    {
      "cell_type": "markdown",
      "metadata": {
        "id": "8Zy8OMRfVJ5w"
      },
      "source": [
        "<a id=\"7\"></a>\n",
        "### 3.3. Model Evaluation"
      ]
    },
    {
      "cell_type": "code",
      "metadata": {
        "id": "Rn8V02ceVJ5w"
      },
      "source": [
        "# Make a prediction with an unknown location and keyword given this comment, model, and vectorizer\n",
        "def predict_sentiment(comment, model, vectorizer):\n",
        "    # Transform our comment into vectorized form\n",
        "    comment_features = vectorizer.transform(comment)\n",
        "    # Generate a np array of zeros which signifies a missing location. \n",
        "    #df = pd.DataFrame([{\"keyword\": keyword, \"location\": location}], dtype=str)\n",
        "    #hot_encoded_loc_and_keyword = preprocessor.transform(df)\n",
        "    hot_encoded_loc_and_keyword = np.zeros((1, 3562))\n",
        "    final_comment = np.append(hot_encoded_loc_and_keyword, comment_features.toarray(), axis=1)\n",
        "    sentiment = model.predict(final_comment)\n",
        "    \n",
        "    if sentiment == 1:\n",
        "        return \"Real Disaster\"\n",
        "    else:\n",
        "        return \"Fake Disaster\"    "
      ],
      "execution_count": null,
      "outputs": []
    },
    {
      "cell_type": "code",
      "metadata": {
        "id": "TXXgRtQYVJ5w",
        "outputId": "0accdb28-a19d-4b1b-b974-956f169ccef6"
      },
      "source": [
        "# Real Disaster Test\n",
        "predict_sentiment([\"There's a raging fire in paradise\"], standard, fitted_standard_vect)"
      ],
      "execution_count": null,
      "outputs": [
        {
          "output_type": "execute_result",
          "data": {
            "text/plain": [
              "'Real Disaster'"
            ]
          },
          "metadata": {
            "tags": []
          },
          "execution_count": 26
        }
      ]
    },
    {
      "cell_type": "code",
      "metadata": {
        "id": "25Ew7xqOVJ5x",
        "outputId": "f8e0772e-11db-4889-8e35-af78bb755cc0"
      },
      "source": [
        "# Fake Disaster Test \n",
        "predict_sentiment([\"It's Sunny Outside\"], standard, fitted_standard_vect)"
      ],
      "execution_count": null,
      "outputs": [
        {
          "output_type": "execute_result",
          "data": {
            "text/plain": [
              "'Fake Disaster'"
            ]
          },
          "metadata": {
            "tags": []
          },
          "execution_count": 27
        }
      ]
    },
    {
      "cell_type": "markdown",
      "metadata": {
        "id": "j-gEsrkcVJ5x"
      },
      "source": [
        "<a id=\"8\"></a>\n",
        "### 3.4. Model Optimization"
      ]
    },
    {
      "cell_type": "code",
      "metadata": {
        "id": "F0_IYljwVJ5y"
      },
      "source": [
        "from sklearn.model_selection import GridSearchCV\n",
        "from sklearn.linear_model import LinearRegression\n",
        "from sklearn.linear_model import LogisticRegression\n",
        "from sklearn.tree import DecisionTreeClassifier"
      ],
      "execution_count": null,
      "outputs": []
    },
    {
      "cell_type": "code",
      "metadata": {
        "id": "Z1WDh78qVJ5y"
      },
      "source": [
        "# TODO: Add acc return value\n",
        "def do_grid_search(clf):\n",
        "    grid_search = GridSearchCV(clf, param_grid, cv=5)\n",
        "    grid_search.fit(X=data1[0], y=data1[1])\n",
        "    \n",
        "    # result of grid search\n",
        "    print(\"Best parameters: \", grid_search.best_params_)\n",
        "    print(\"Training set score with best parameters: \", grid_search.score(data1[0], data1[1]))\n",
        "\n",
        "    #the performance of the best found parameters on the test set\n",
        "    acc = grid_search.score(data1[2], data1[3])\n",
        "    print(\"Test set score with best parameters: \", acc)\n",
        "    recall = recall_score(grid_search.predict(data1[2]), data1[3])\n",
        "    precision = precision_score(grid_search.predict(data1[2]), data1[3])\n",
        "    f1 = 2 * ((precision * recall) / (precision + recall))\n",
        "    return f1, acc"
      ],
      "execution_count": null,
      "outputs": []
    },
    {
      "cell_type": "code",
      "metadata": {
        "id": "8_zeS100VJ5y"
      },
      "source": [
        "# Learning Rate\n",
        "param_grid = {\"alpha\": [.5, .05, .005]}"
      ],
      "execution_count": null,
      "outputs": []
    },
    {
      "cell_type": "code",
      "metadata": {
        "id": "1FC6SCJXVJ5y",
        "outputId": "23a91b11-8c86-4d74-eee1-c7dc4d516daa"
      },
      "source": [
        "# Do a Grid Search using Multinomial Naive Bayes classification\n",
        "f1_nb, acc_nb = do_grid_search(MultinomialNB())"
      ],
      "execution_count": null,
      "outputs": [
        {
          "output_type": "stream",
          "text": [
            "Best parameters:  {'alpha': 0.5}\n",
            "Training set score with best parameters:  0.9218777369066387\n",
            "Test set score with best parameters:  0.803046218487395\n"
          ],
          "name": "stdout"
        }
      ]
    },
    {
      "cell_type": "code",
      "metadata": {
        "id": "Q76L_YyqVJ5y"
      },
      "source": [
        "param_grid = {\"max_iter\": [10000, 1000000]}"
      ],
      "execution_count": null,
      "outputs": []
    },
    {
      "cell_type": "code",
      "metadata": {
        "id": "ABrV-RNfVJ5y",
        "outputId": "c3beb338-bbf7-43cf-d982-4120121a161d"
      },
      "source": [
        "# Do a Grid Search using Logistic Regression classification\n",
        "f1_lr, acc_lr = do_grid_search(LogisticRegression())"
      ],
      "execution_count": null,
      "outputs": [
        {
          "output_type": "stream",
          "text": [
            "C:\\Users\\Anirudh\\Anaconda3\\lib\\site-packages\\sklearn\\linear_model\\logistic.py:432: FutureWarning: Default solver will be changed to 'lbfgs' in 0.22. Specify a solver to silence this warning.\n",
            "  FutureWarning)\n",
            "C:\\Users\\Anirudh\\Anaconda3\\lib\\site-packages\\sklearn\\linear_model\\logistic.py:432: FutureWarning: Default solver will be changed to 'lbfgs' in 0.22. Specify a solver to silence this warning.\n",
            "  FutureWarning)\n",
            "C:\\Users\\Anirudh\\Anaconda3\\lib\\site-packages\\sklearn\\linear_model\\logistic.py:432: FutureWarning: Default solver will be changed to 'lbfgs' in 0.22. Specify a solver to silence this warning.\n",
            "  FutureWarning)\n",
            "C:\\Users\\Anirudh\\Anaconda3\\lib\\site-packages\\sklearn\\linear_model\\logistic.py:432: FutureWarning: Default solver will be changed to 'lbfgs' in 0.22. Specify a solver to silence this warning.\n",
            "  FutureWarning)\n",
            "C:\\Users\\Anirudh\\Anaconda3\\lib\\site-packages\\sklearn\\linear_model\\logistic.py:432: FutureWarning: Default solver will be changed to 'lbfgs' in 0.22. Specify a solver to silence this warning.\n",
            "  FutureWarning)\n",
            "C:\\Users\\Anirudh\\Anaconda3\\lib\\site-packages\\sklearn\\linear_model\\logistic.py:432: FutureWarning: Default solver will be changed to 'lbfgs' in 0.22. Specify a solver to silence this warning.\n",
            "  FutureWarning)\n",
            "C:\\Users\\Anirudh\\Anaconda3\\lib\\site-packages\\sklearn\\linear_model\\logistic.py:432: FutureWarning: Default solver will be changed to 'lbfgs' in 0.22. Specify a solver to silence this warning.\n",
            "  FutureWarning)\n",
            "C:\\Users\\Anirudh\\Anaconda3\\lib\\site-packages\\sklearn\\linear_model\\logistic.py:432: FutureWarning: Default solver will be changed to 'lbfgs' in 0.22. Specify a solver to silence this warning.\n",
            "  FutureWarning)\n",
            "C:\\Users\\Anirudh\\Anaconda3\\lib\\site-packages\\sklearn\\linear_model\\logistic.py:432: FutureWarning: Default solver will be changed to 'lbfgs' in 0.22. Specify a solver to silence this warning.\n",
            "  FutureWarning)\n",
            "C:\\Users\\Anirudh\\Anaconda3\\lib\\site-packages\\sklearn\\linear_model\\logistic.py:432: FutureWarning: Default solver will be changed to 'lbfgs' in 0.22. Specify a solver to silence this warning.\n",
            "  FutureWarning)\n",
            "C:\\Users\\Anirudh\\Anaconda3\\lib\\site-packages\\sklearn\\linear_model\\logistic.py:432: FutureWarning: Default solver will be changed to 'lbfgs' in 0.22. Specify a solver to silence this warning.\n",
            "  FutureWarning)\n"
          ],
          "name": "stderr"
        },
        {
          "output_type": "stream",
          "text": [
            "Best parameters:  {'max_iter': 10000}\n",
            "Training set score with best parameters:  0.9129444736381153\n",
            "Test set score with best parameters:  0.8051470588235294\n"
          ],
          "name": "stdout"
        }
      ]
    },
    {
      "cell_type": "code",
      "metadata": {
        "id": "johKZs6cVJ5z"
      },
      "source": [
        "# Different parameters for the Grid Search\n",
        "param_grid = {\"max_depth\": [1, 20, 40]}"
      ],
      "execution_count": null,
      "outputs": []
    },
    {
      "cell_type": "code",
      "metadata": {
        "id": "Ouo_kmLmVJ5z",
        "outputId": "e01a84b8-dd4d-40a8-fa10-855902c47ffd"
      },
      "source": [
        "# F1 score for the grid search using Decision Tree\n",
        "f1_dt, acc_dt = do_grid_search(DecisionTreeClassifier())"
      ],
      "execution_count": null,
      "outputs": [
        {
          "output_type": "stream",
          "text": [
            "Best parameters:  {'max_depth': 20}\n",
            "Training set score with best parameters:  0.8036433701173585\n",
            "Test set score with best parameters:  0.6817226890756303\n"
          ],
          "name": "stdout"
        }
      ]
    },
    {
      "cell_type": "markdown",
      "metadata": {
        "id": "YBHulkc5VJ5z"
      },
      "source": [
        "<a id=\"9\"></a>\n",
        "### 3.5. Data Exploration"
      ]
    },
    {
      "cell_type": "code",
      "metadata": {
        "id": "WVim8S2bVJ5z"
      },
      "source": [
        "# Data Visualization\n",
        "import seaborn as sns\n",
        "def graph_f1_scores(x_data, y_data, x_title, graph_title):\n",
        "    graph = sns.barplot(x=x_data, y=y_data)\n",
        "    graph.set_title(graph_title, size=20)\n",
        "    graph.set_xlabel(x_title, size = 16);\n",
        "    graph.set_ylabel(\"F1 Score\", size = 16);\n",
        "    return graph"
      ],
      "execution_count": null,
      "outputs": []
    },
    {
      "cell_type": "code",
      "metadata": {
        "id": "IlsDCw09VJ5z"
      },
      "source": [
        "# Lists to represents our vectorizers, classifers, and f1_scores for each\n",
        "vector_names = [\"Standard\", \"Stop Words\", \"Min DF\", \"N-Gram\"]\n",
        "classifiers_names = [\"Naive Bayes\", \"Logistic Regression\", \"Decision Tree\"]\n",
        "f1_vectors = [f1_st, f1_stop, f1_df, f1_ngram]\n",
        "recall_vectors = [recall_st, recall_stop, recall_ngram]\n",
        "f1_classifiers = [f1_nb, f1_lr, f1_dt]"
      ],
      "execution_count": null,
      "outputs": []
    },
    {
      "cell_type": "code",
      "metadata": {
        "id": "SWdk5p79VJ5z",
        "outputId": "14f926b1-04d7-4f4a-e84e-9ef4b5e75144"
      },
      "source": [
        "# Creating and displaying a bar graph representing the correlation\n",
        "# between Vectorizers and F1 Scores\n",
        "vector_graph = graph_f1_scores(vector_names, f1_vectors, \"Vectorizer\", \"Vectorizer's F1 Scores\")\n",
        "vector_graph.set(ylim=(0.72, 0.76));"
      ],
      "execution_count": null,
      "outputs": [
        {
          "output_type": "display_data",
          "data": {
            "image/png": "[encoded data removed]",
            "text/plain": [
              "<Figure size 432x288 with 1 Axes>"
            ]
          },
          "metadata": {
            "tags": []
          }
        }
      ]
    },
    {
      "cell_type": "markdown",
      "metadata": {
        "id": "2ZcBwd60VJ5z"
      },
      "source": [
        "The above graph demonstrates the difference in F1 Scores based on different Vectorizers. \n",
        "We can see that the standard Vectorizer had the highest F1 Score, indicating the strongest performance.\n",
        "F1 combines Recall and Precision performance to give an alternate metric regarding performance."
      ]
    },
    {
      "cell_type": "code",
      "metadata": {
        "id": "g4mTe-PdVJ5z",
        "outputId": "d609f2b8-e13e-42f1-bd70-586e3a5e2fbf"
      },
      "source": [
        "# Creating and displaying a bar graph representing the correlation\n",
        "# between Classifiers and F1 Scores\n",
        "classifier_graph = graph_f1_scores(classifiers_names, f1_classifiers, \"Classifiers\", \"Classifier's F1 Scores\")\n",
        "classifier_graph.set(ylim=(0.4, 0.8));"
      ],
      "execution_count": null,
      "outputs": [
        {
          "output_type": "display_data",
          "data": {
            "image/png": "[encoded data removed]",
            "text/plain": [
              "<Figure size 432x288 with 1 Axes>"
            ]
          },
          "metadata": {
            "tags": []
          }
        }
      ]
    },
    {
      "cell_type": "markdown",
      "metadata": {
        "id": "Zo4KmoReVJ50"
      },
      "source": [
        "The above graph demonstrates the difference in F1 Scores based on different Classifiers.\n",
        "We can see that both the Naive Bayes and Logistic Regression classification algorithms had high\n",
        "F1 scores, indicating high performance. Logistic Regression had the highest.\n",
        "Also, we can see that the Decision Tree had a fairly low F1 score, showing its poor performance."
      ]
    },
    {
      "cell_type": "code",
      "metadata": {
        "id": "424MNVguVJ50",
        "outputId": "fd934a6e-1c60-4489-8736-6249a80c0b58"
      },
      "source": [
        "graph = sns.barplot(x=classifiers_names, y=recall_vectors)\n",
        "graph.set_title(\"Recall Score for Classifiers\", size=20)\n",
        "graph.set_xlabel(\"Classifiers\", size = 16);\n",
        "graph.set_ylabel(\"Recall Score\", size = 16);\n",
        "graph.set(ylim=(0.7, 0.9));"
      ],
      "execution_count": null,
      "outputs": [
        {
          "output_type": "display_data",
          "data": {
            "image/png": "[encoded data removed]",
            "text/plain": [
              "<Figure size 432x288 with 1 Axes>"
            ]
          },
          "metadata": {
            "tags": []
          }
        }
      ]
    },
    {
      "cell_type": "markdown",
      "metadata": {
        "id": "xvL9fLDmVJ50"
      },
      "source": [
        "The above graph is a different representation by showing the recall score per classifier."
      ]
    },
    {
      "cell_type": "markdown",
      "metadata": {
        "id": "i6Yj3b5zVJ50"
      },
      "source": [
        "<a id=\"4\"></a>\n",
        "<hr style=\"height:2px; border:none; color:black; background-color:black;\">"
      ]
    },
    {
      "cell_type": "markdown",
      "metadata": {
        "id": "z9ystjqXVJ50"
      },
      "source": [
        "## 4. DISCUSSION"
      ]
    },
    {
      "cell_type": "markdown",
      "metadata": {
        "id": "yOiIWPzqVJ50"
      },
      "source": [
        "First, the data was imported. The last column of the data was extracted as the target variable, and the other columns excluding the id column were tagged as the features variable. The target’s value counts were checked to ensure that the data was not unacceptably skewed. The non text features were passed through a preprocessing pipeline, where NaN values were imputed to be a missing value variable. The non text categorical variables were then hot encoded. \n",
        "\n",
        "The text column then has a function applied to it that strips any punctuation, which hopefully reduces the number of features. The stripped text column is recombined with the non text columns to form the new X variable. \n",
        "\n",
        "Train test split is used to split the data into a training and test set. We then tested several different Vectorizers to see which would give the best results. We determined which result was best via their F1 Scores which is slightly better than accuracy when a dataset is skewed. The F1 Scores for each vectorizer  were then visualized on a bar plot. \n",
        "\n",
        "We then tested three different classifiers to see which would be the best classifier for our data. These were Logistic Regression, A Decision Tree Classifier, and a Multinomial Naive bayes classifier. For consistency purposes and to get the ideal hyperparameters we ran GridSearchCV. Finally we ran the models with the selected hyperparameters to get the final F1 scores. Overall, the Logistic regression classifier came out on top by a very slight margin. \n",
        "\n",
        "*Which Algorithms did you compare?*: \n",
        "The algorithms we compared are Multinomial Naive Bayes, A Decision Tree Classifier, and Linear Regression. We also tested different types of TFVectorizers. \n",
        "\n",
        "*Which algorithm(s) revealed best performance?*: \n",
        "The Naive Bayes and Logistic Regression both achieved roughly 80% accuracy on the test set after cross validation. The Decision Tree lagged behind only achieving a 70% accuracy on the test set. \n",
        "\n",
        "*Which algorithm(s) should be used for your predictive model?*: \n",
        "Either the Multinomial Naive Bayes or the Logistic Regression classifier would be acceptable choices for a predictive model. \n",
        "\n",
        "*For hypothesis tests, what does it mean to have significant/non-significant differences?*: \n",
        "The differences in the data are highly unlikely to have been caused by random chance alone\n",
        "\n",
        "This model might have been limited based on the fact the number of samples was less than the number of features. This is often a cause of underfitting as there simply isn’t  enough data for the model to train all it’s parameters. In the future, more data should be collected. In addition, a bidirectional LSTM might be an ideal candidate for future analysis. Bidirectional LSTMs typically excel at problems like this one. For this solution to be effective however, more data is required, as stated above. "
      ]
    },
    {
      "cell_type": "markdown",
      "metadata": {
        "id": "hYc778PLVJ51"
      },
      "source": [
        "<a id=\"5\"></a>\n",
        "<hr style=\"height:2px; border:none; color:black; background-color:black;\">"
      ]
    },
    {
      "cell_type": "markdown",
      "metadata": {
        "id": "UhiPovFDVJ51"
      },
      "source": [
        "# Hypothesis Test (Chi Squared)"
      ]
    },
    {
      "cell_type": "markdown",
      "metadata": {
        "id": "1o9hvH5CVJ51"
      },
      "source": [
        "### Research Question "
      ]
    },
    {
      "cell_type": "markdown",
      "metadata": {
        "id": "oCYOKZI3VJ51"
      },
      "source": [
        "Are any of these classifiers significantly better than any of the other classifiers?"
      ]
    },
    {
      "cell_type": "markdown",
      "metadata": {
        "id": "sBMQQ4OVVJ51"
      },
      "source": [
        "### Independent Variable"
      ]
    },
    {
      "cell_type": "markdown",
      "metadata": {
        "id": "ANqMp3Q4VJ51"
      },
      "source": [
        "The Type of Classifier Selected"
      ]
    },
    {
      "cell_type": "markdown",
      "metadata": {
        "id": "XgfruNmAVJ51"
      },
      "source": [
        "### Dependent Variable"
      ]
    },
    {
      "cell_type": "markdown",
      "metadata": {
        "id": "zS0N7Gj9VJ51"
      },
      "source": [
        "The Accuracy of the Classifier on the Test Set"
      ]
    },
    {
      "cell_type": "markdown",
      "metadata": {
        "id": "cg9Cmnx1VJ51"
      },
      "source": [
        "### Experimental Hypothesis"
      ]
    },
    {
      "cell_type": "markdown",
      "metadata": {
        "id": "MPEATBK8VJ51"
      },
      "source": [
        "Naive Bayes will outperform the other classifiers in terms of accuracy"
      ]
    },
    {
      "cell_type": "code",
      "metadata": {
        "id": "MyN4Y7tmVJ52"
      },
      "source": [
        "accs = [acc_nb * y_test.size, acc_lr * y_test.size, acc_dt * y_test.size]"
      ],
      "execution_count": null,
      "outputs": []
    },
    {
      "cell_type": "code",
      "metadata": {
        "id": "J8RRSOVZVJ52"
      },
      "source": [
        "accs_array = np.array(accs).reshape(1, 3)"
      ],
      "execution_count": null,
      "outputs": []
    },
    {
      "cell_type": "code",
      "metadata": {
        "id": "lEfnYquxVJ52"
      },
      "source": [
        "inv_accs = np.ones((1, 3)) * y_test.size - accs_array"
      ],
      "execution_count": null,
      "outputs": []
    },
    {
      "cell_type": "code",
      "metadata": {
        "id": "cWqFIOJ9VJ52"
      },
      "source": [
        "observed = np.append(accs_array, inv_accs, axis=0)"
      ],
      "execution_count": null,
      "outputs": []
    },
    {
      "cell_type": "code",
      "metadata": {
        "id": "HmE1VO1xVJ52"
      },
      "source": [
        "# Row totals \n",
        "row_totals = np.sum(observed, axis=1)"
      ],
      "execution_count": null,
      "outputs": []
    },
    {
      "cell_type": "code",
      "metadata": {
        "id": "ZzdwZbC8VJ52"
      },
      "source": [
        "# Column totals \n",
        "column_totals = np.sum(observed, axis=0)"
      ],
      "execution_count": null,
      "outputs": []
    },
    {
      "cell_type": "code",
      "metadata": {
        "id": "amqo5qgkVJ52"
      },
      "source": [
        "# Grand Total \n",
        "grand_total = np.sum(np.sum(observed))"
      ],
      "execution_count": null,
      "outputs": []
    },
    {
      "cell_type": "code",
      "metadata": {
        "id": "JTnbyZvLVJ53"
      },
      "source": [
        "pos = row_totals[0] * column_totals[0] / grand_total"
      ],
      "execution_count": null,
      "outputs": []
    },
    {
      "cell_type": "code",
      "metadata": {
        "id": "pb2vO1FcVJ53"
      },
      "source": [
        "positives = np.array([pos, pos, pos]).reshape(1, 3)"
      ],
      "execution_count": null,
      "outputs": []
    },
    {
      "cell_type": "code",
      "metadata": {
        "id": "JZgi8CXhVJ53"
      },
      "source": [
        "neg = row_totals[1] * column_totals[0] / grand_total\n",
        "negatives = np.array([neg, neg, neg]).reshape(1, 3)"
      ],
      "execution_count": null,
      "outputs": []
    },
    {
      "cell_type": "code",
      "metadata": {
        "id": "W3RCIt9lVJ53"
      },
      "source": [
        "expected = np.append(positives, negatives, axis=0)"
      ],
      "execution_count": null,
      "outputs": []
    },
    {
      "cell_type": "code",
      "metadata": {
        "id": "ylMJDj7oVJ53",
        "outputId": "aacbff55-def8-441a-c0be-422bf62c302f"
      },
      "source": [
        "chi_squared = np.sum(np.square(observed - expected) / expected)\n",
        "print(chi_squared)"
      ],
      "execution_count": null,
      "outputs": [
        {
          "output_type": "stream",
          "text": [
            "105.23563867325335\n"
          ],
          "name": "stdout"
        }
      ]
    },
    {
      "cell_type": "markdown",
      "metadata": {
        "id": "7vn_Ph_yVJ53"
      },
      "source": [
        "The P-Value is < .00001. The result is significant at p < .05."
      ]
    },
    {
      "cell_type": "markdown",
      "metadata": {
        "id": "6XW_loAOVJ53"
      },
      "source": [
        "### Results"
      ]
    },
    {
      "cell_type": "markdown",
      "metadata": {
        "id": "YG8CPcxTVJ53"
      },
      "source": [
        "Results revealed a statistically significant difference between the three classifiers, chi_squared = 105.236, p < 0.05 Since this is a 2 way Chi Squared test, a post hoc is required. We can accomplish this with Bonferroni-adjusted P value. Since we're using a significance of 0.05 and we're making 3 comparisons, we need a p value of 0.05 / 3 or 0.016"
      ]
    },
    {
      "cell_type": "code",
      "metadata": {
        "id": "4qAVAQARVJ54"
      },
      "source": [
        "# Calculates a one-way chi square based on the given observed table\n",
        "def one_way_chi(observed):\n",
        "    # Row totals \n",
        "    row_totals = np.sum(observed, axis=1)\n",
        "    row_totals\n",
        "    # Column totals \n",
        "    column_totals = np.sum(observed, axis=0)\n",
        "    column_totals\n",
        "    # Grand Total \n",
        "    grand_total = np.sum(np.sum(observed))\n",
        "    grand_total\n",
        "    \n",
        "    # Calculating expected tables\n",
        "    pos = row_totals[0] * column_totals[0] / grand_total\n",
        "    neg = row_totals[1] * column_totals[0] / grand_total\n",
        "    \n",
        "    positives = np.array([pos, pos]).reshape(1, 2)\n",
        "    negatives = np.array([neg, neg]).reshape(1, 2)\n",
        "    \n",
        "    # Calculating expected value\n",
        "    expected = np.append(positives, negatives, axis=0)\n",
        "    expected\n",
        "    \n",
        "    # Returns the chi square value\n",
        "    return np.sum(np.square(observed - expected) / expected)"
      ],
      "execution_count": null,
      "outputs": []
    },
    {
      "cell_type": "code",
      "metadata": {
        "id": "LZlHizV5VJ54",
        "outputId": "66d95fd2-b8da-466f-9ed6-c0be9f8b1c03"
      },
      "source": [
        "# Naive Bayes vs Logistic Regression\n",
        "print(one_way_chi(observed[:, :-1]))"
      ],
      "execution_count": null,
      "outputs": [
        {
          "output_type": "stream",
          "text": [
            "0.02667306409275334\n"
          ],
          "name": "stdout"
        }
      ]
    },
    {
      "cell_type": "code",
      "metadata": {
        "id": "U0u3X0IIVJ54",
        "outputId": "2ed51149-fdb7-4b5e-dcff-ba8a9800e95d"
      },
      "source": [
        "# Logistic Regression vs Decision Tree\n",
        "print(one_way_chi(observed[:, 1:]))"
      ],
      "execution_count": null,
      "outputs": [
        {
          "output_type": "stream",
          "text": [
            "76.0323180231152\n"
          ],
          "name": "stdout"
        }
      ]
    },
    {
      "cell_type": "code",
      "metadata": {
        "id": "NFayorX6VJ54"
      },
      "source": [
        "o1 = observed[:, 0].reshape(2, 1)"
      ],
      "execution_count": null,
      "outputs": []
    },
    {
      "cell_type": "code",
      "metadata": {
        "id": "R-1OhxXjVJ54"
      },
      "source": [
        "o2 = observed[:, 2].reshape(2, 1)"
      ],
      "execution_count": null,
      "outputs": []
    },
    {
      "cell_type": "code",
      "metadata": {
        "id": "QOsp9mA0VJ54"
      },
      "source": [
        "final = np.append(o1, o2, axis = 1)"
      ],
      "execution_count": null,
      "outputs": []
    },
    {
      "cell_type": "code",
      "metadata": {
        "id": "yFe_JPXsVJ54",
        "outputId": "910972c5-d6b6-4052-f139-527f3cc767b4"
      },
      "source": [
        "# Naive Bayes vs Decision Tree\n",
        "print(one_way_chi(final))"
      ],
      "execution_count": null,
      "outputs": [
        {
          "output_type": "stream",
          "text": [
            "73.269981794167\n"
          ],
          "name": "stdout"
        }
      ]
    },
    {
      "cell_type": "markdown",
      "metadata": {
        "id": "XbTbDpoXVJ55"
      },
      "source": [
        "Results revealed a statistically significant difference between the three classifiers, chi_squared = 105.236, p < 0.05 Since this is a 2 way Chi Squared test, a post hoc is required. We can accomplish this with Bonferroni-adjusted P value. Since we're using a significance of 0.05 and we're making 3 comparisons, we need a p value of 0.05 / 3 or 0.016\n",
        "\n",
        "Post-hoc comparisons using Bonferroni-adjusted P values indicated that the accuracy of the decision tree classifier was significantly worse than the accuracy of the Naive Bayes Classifier and the Logistic Regression Classifier. The Naive Bayes Classifier and Logistic Regression Classifier did not significantly differ from each other in terms of accuracy.\n",
        "\n",
        "Accuracy score refers to the number of accurate predictions divided by the number of overall predictions. In some contexts, accuracy score may be an inferior metric, such as when the dataset is heavily skewed. \n"
      ]
    }
  ]
}